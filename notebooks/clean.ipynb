{
 "cells": [
  {
   "cell_type": "markdown",
   "metadata": {},
   "source": [
    "Recently, Alberto Cairo created the [Datasaurus dataset](http://www.thefunctionalart.com/2016/08/download-datasaurus-never-trust-summary.html) which urges people to \"never trust summary statistics alone; always visualize your data\", since, while the data exhibits normal seeming statistics, plotting the data reveals a picture of a dinosaur. Inspired by Anscombe's Quartet and the Datasaurus, we present, [The Datasaurus Dozen](https://www.autodeskresearch.com/publications/samestats)."
   ]
  },
  {
   "cell_type": "code",
   "execution_count": null,
   "metadata": {},
   "outputs": [],
   "source": [
    "import pandas as pd\n",
    "import numpy as np\n",
    "import matplotlib.pyplot as plt"
   ]
  },
  {
   "cell_type": "code",
   "execution_count": null,
   "metadata": {},
   "outputs": [],
   "source": [
    "datasaurus = pd.read_csv(\"DatasaurusDozen.tsv\", sep='\\t')\n",
    "dino = datasaurus[datasaurus.dataset == 'dino']"
   ]
  },
  {
   "cell_type": "code",
   "execution_count": null,
   "metadata": {},
   "outputs": [],
   "source": [
    "plt.scatter(dino.x, dino.y, s=10)"
   ]
  },
  {
   "cell_type": "code",
   "execution_count": null,
   "metadata": {
    "scrolled": false
   },
   "outputs": [],
   "source": [
    "def plot_datasaurus(datasaurus, cols:int=2, plot_size=4):\n",
    "    datasets = set(datasaurus.dataset.unique())\n",
    "    datasets.remove('dino')\n",
    "    rows = 12 / cols\n",
    "    plt.figure(figsize=(cols * plot_size, rows * plot_size))\n",
    "    for i, dataset in enumerate(datasets):\n",
    "        d = datasaurus[datasaurus.dataset == dataset]\n",
    "        ax = plt.subplot(rows, cols, i + 1)\n",
    "        ax.scatter(d.x, d.y, s=10)\n",
    "        ax.set_ylim([0, 100])\n",
    "        ax.set_xlim([0, 100])\n",
    "        ax.set_title(dataset)\n",
    "        ax.grid(color='gray', linestyle='-', linewidth=0.3)\n",
    "        ax.set_aspect(aspect=1)\n",
    "#        plt.axes().set_aspect('equal', 'datalim')\n",
    "    plt.tight_layout()\n",
    "    plt.show()\n",
    "    \n",
    "plot_datasaurus(datasaurus, cols=3)"
   ]
  },
  {
   "cell_type": "markdown",
   "metadata": {},
   "source": [
    "### Stats"
   ]
  },
  {
   "cell_type": "code",
   "execution_count": null,
   "metadata": {},
   "outputs": [],
   "source": [
    "datasaurus_summary = datasaurus.groupby('dataset')\n",
    "datasaurus_summary.mean()"
   ]
  },
  {
   "cell_type": "code",
   "execution_count": null,
   "metadata": {},
   "outputs": [],
   "source": [
    "print(datasaurus_summary.corr())"
   ]
  },
  {
   "cell_type": "code",
   "execution_count": null,
   "metadata": {},
   "outputs": [],
   "source": []
  }
 ],
 "metadata": {
  "kernelspec": {
   "display_name": "Python 3",
   "language": "python",
   "name": "python3"
  },
  "language_info": {
   "codemirror_mode": {
    "name": "ipython",
    "version": 3
   },
   "file_extension": ".py",
   "mimetype": "text/x-python",
   "name": "python",
   "nbconvert_exporter": "python",
   "pygments_lexer": "ipython3",
   "version": "3.6.5"
  }
 },
 "nbformat": 4,
 "nbformat_minor": 2
}
