{
 "cells": [
  {
   "cell_type": "code",
   "execution_count": null,
   "metadata": {},
   "outputs": [],
   "source": [
    "import json\n",
    "import os\n",
    "\n",
    "if not os.path.exists(\"output\"):\n",
    "    os.makedirs(\"output\")"
   ]
  },
  {
   "cell_type": "code",
   "execution_count": null,
   "metadata": {
    "scrolled": false
   },
   "outputs": [],
   "source": [
    "with open(\"../notebooks/clean.ipynb\", \"r\") as r:\n",
    "    clean = json.load(r)\n",
    "with open(\"../notebooks/dirty.ipynb\", \"r\") as r:\n",
    "    dirty = json.load(r)"
   ]
  },
  {
   "cell_type": "code",
   "execution_count": null,
   "metadata": {},
   "outputs": [],
   "source": [
    "print(json.dumps(clean, indent=1))"
   ]
  },
  {
   "cell_type": "code",
   "execution_count": null,
   "metadata": {},
   "outputs": [],
   "source": [
    "print(json.dumps(dirty, indent=1))"
   ]
  },
  {
   "cell_type": "code",
   "execution_count": null,
   "metadata": {},
   "outputs": [],
   "source": [
    "def clean_nb(dirty, outputs_to_remove=[]):\n",
    "    cells = dirty.get('cells', [])\n",
    "    to_remove = set(outputs_to_remove)\n",
    "    for cell in cells:\n",
    "        if cell[\"cell_type\"] != \"code\": continue\n",
    "        cell[\"execution_count\"] = None\n",
    "        if to_remove: # WIP\n",
    "            ix_to_remove = []\n",
    "            for output in cell[\"outputs\"]:\n",
    "                if 'data' in output:\n",
    "                    keys = output['data'].keys()\n",
    "                    print(keys)\n",
    "                elif 'name' in output:\n",
    "                    print(output)\n",
    "                else:\n",
    "                    print(output)\n",
    "        else:\n",
    "            cell[\"outputs\"] = []\n",
    "            \n",
    "clean_nb(dirty, outputs_to_remove=[\"stdout\", \"text/plain\"])\n",
    "#print(json.dumps(dirty, indent=1))"
   ]
  },
  {
   "cell_type": "code",
   "execution_count": null,
   "metadata": {},
   "outputs": [],
   "source": [
    "with open(\"output/originally_clean.ipynb\", \"w\") as w:\n",
    "    json.dump(clean, w, indent=4)\n",
    "with open(\"output/clean.ipynb\", \"w\") as w:\n",
    "    json.dump(dirty, w, indent=4)"
   ]
  },
  {
   "cell_type": "code",
   "execution_count": null,
   "metadata": {},
   "outputs": [],
   "source": []
  }
 ],
 "metadata": {
  "kernelspec": {
   "display_name": "Python 3",
   "language": "python",
   "name": "python3"
  },
  "language_info": {
   "codemirror_mode": {
    "name": "ipython",
    "version": 3
   },
   "file_extension": ".py",
   "mimetype": "text/x-python",
   "name": "python",
   "nbconvert_exporter": "python",
   "pygments_lexer": "ipython3",
   "version": "3.6.5"
  }
 },
 "nbformat": 4,
 "nbformat_minor": 2
}
